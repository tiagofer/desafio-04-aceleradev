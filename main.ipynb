{
 "cells": [
  {
   "cell_type": "markdown",
   "metadata": {},
   "source": [
    "# Desafio 3\n",
    "\n",
    "Neste desafio, iremos praticar nossos conhecimentos sobre distribuições de probabilidade. Para isso,\n",
    "dividiremos este desafio em duas partes:\n",
    "    \n",
    "1. A primeira parte contará com 3 questões sobre um *data set* artificial com dados de uma amostra normal e\n",
    "    uma binomial.\n",
    "2. A segunda parte será sobre a análise da distribuição de uma variável do _data set_ [Pulsar Star](https://archive.ics.uci.edu/ml/datasets/HTRU2), contendo 2 questões.\n",
    "\n",
    "> Obs.: Por favor, não modifique o nome das funções de resposta."
   ]
  },
  {
   "cell_type": "markdown",
   "metadata": {},
   "source": [
    "## _Setup_ geral"
   ]
  },
  {
   "cell_type": "code",
   "execution_count": 3,
   "metadata": {},
   "outputs": [],
   "source": [
    "import pandas as pd\n",
    "import matplotlib.pyplot as plt\n",
    "import numpy as np\n",
    "import scipy.stats as sct\n",
    "import seaborn as sns\n",
    "from statsmodels.distributions.empirical_distribution import ECDF"
   ]
  },
  {
   "cell_type": "code",
   "execution_count": 4,
   "metadata": {},
   "outputs": [],
   "source": [
    "#%matplotlib inline\n",
    "\n",
    "from IPython.core.pylabtools import figsize\n",
    "\n",
    "\n",
    "figsize(12, 8)\n",
    "\n",
    "sns.set()"
   ]
  },
  {
   "cell_type": "markdown",
   "metadata": {},
   "source": [
    "## Parte 1"
   ]
  },
  {
   "cell_type": "markdown",
   "metadata": {},
   "source": [
    "### _Setup_ da parte 1"
   ]
  },
  {
   "cell_type": "code",
   "execution_count": 5,
   "metadata": {},
   "outputs": [],
   "source": [
    "np.random.seed(42)\n",
    "    \n",
    "dataframe = pd.DataFrame({\"normal\": sct.norm.rvs(20, 4, size=10000),\n",
    "                     \"binomial\": sct.binom.rvs(100, 0.2, size=10000)})"
   ]
  },
  {
   "cell_type": "markdown",
   "metadata": {},
   "source": [
    "## Inicie sua análise a partir da parte 1 a partir daqui"
   ]
  },
  {
   "cell_type": "code",
   "execution_count": 42,
   "metadata": {},
   "outputs": [
    {
     "data": {
      "text/plain": "(0.3096378799715893, -0.010379903171511273, -0.315676448541339)"
     },
     "execution_count": 42,
     "metadata": {},
     "output_type": "execute_result"
    }
   ],
   "source": [
    "# Sua análise da parte 1 começa aqui.\n",
    "#Questão 01\n",
    "diff = tuple((dataframe.normal.quantile([.25,.5,.75]) - dataframe.binomial.quantile([.25,.5,.75])).values)\n",
    "diff"
   ]
  },
  {
   "cell_type": "code",
   "execution_count": 24,
   "metadata": {},
   "outputs": [
    {
     "data": {
      "text/plain": "0.684"
     },
     "execution_count": 24,
     "metadata": {},
     "output_type": "execute_result"
    }
   ],
   "source": [
    "#Questão 02\n",
    "ecdf = ECDF(dataframe.normal)\n",
    "inf = dataframe.normal.mean() - dataframe.normal.std()\n",
    "sup = dataframe.normal.mean() + dataframe.normal.std()\n",
    "probs = ecdf([inf,sup])\n",
    "prob_interval = probs[1] - probs[0]\n",
    "round(prob_interval,3)"
   ]
  },
  {
   "cell_type": "code",
   "execution_count": 27,
   "metadata": {},
   "outputs": [
    {
     "data": {
      "text/plain": "(0.106, 0.027)"
     },
     "execution_count": 27,
     "metadata": {},
     "output_type": "execute_result"
    }
   ],
   "source": [
    "m_norm = dataframe.normal.mean()\n",
    "s_norm = np.std(dataframe.normal)\n",
    "m_binom = dataframe.binomial.mean()\n",
    "s_binom = np.std(dataframe.binomial)\n",
    "(round(m_binom-m_norm,3).item(),round(s_binom-s_norm,3).item())"
   ]
  },
  {
   "cell_type": "markdown",
   "metadata": {},
   "source": [
    "## Questão 1\n",
    "\n",
    "Qual a diferença entre os quartis (Q1, Q2 e Q3) das variáveis `normal` e `binomial` de `dataframe`? Responda como uma tupla de três elementos arredondados para três casas decimais.\n",
    "\n",
    "Em outra palavras, sejam `q1_norm`, `q2_norm` e `q3_norm` os quantis da variável `normal` e `q1_binom`, `q2_binom` e `q3_binom` os quantis da variável `binom`, qual a diferença `(q1_norm - q1 binom, q2_norm - q2_binom, q3_norm - q3_binom)`?"
   ]
  },
  {
   "cell_type": "code",
   "execution_count": 43,
   "metadata": {},
   "outputs": [],
   "source": [
    "def q1():\n",
    "    # Retorne aqui o resultado da questão 1.\n",
    "    diff = tuple((dataframe.normal.quantile([.25,.5,.75]) - dataframe.binomial.quantile([.25,.5,.75])).values)\n",
    "    return tuple([round(x,3) for x in diff])"
   ]
  },
  {
   "cell_type": "markdown",
   "metadata": {},
   "source": [
    "Para refletir:\n",
    "\n",
    "* Você esperava valores dessa magnitude?\n",
    "\n",
    "* Você é capaz de explicar como distribuições aparentemente tão diferentes (discreta e contínua, por exemplo) conseguem dar esses valores?"
   ]
  },
  {
   "cell_type": "markdown",
   "metadata": {},
   "source": [
    "## Questão 2\n",
    "\n",
    "Considere o intervalo $[\\bar{x} - s, \\bar{x} + s]$, onde $\\bar{x}$ é a média amostral e $s$ é o desvio padrão. Qual a probabilidade nesse intervalo, calculada pela função de distribuição acumulada empírica (CDF empírica) da variável `normal`? Responda como uma único escalar arredondado para três casas decimais."
   ]
  },
  {
   "cell_type": "code",
   "execution_count": 26,
   "metadata": {},
   "outputs": [],
   "source": [
    "def q2():\n",
    "    # Retorne aqui o resultado da questão 2.\n",
    "    ecdf = ECDF(dataframe.normal)\n",
    "    inf = dataframe.normal.mean() - dataframe.normal.std()\n",
    "    sup = dataframe.normal.mean() + dataframe.normal.std()\n",
    "    probs = ecdf([inf,sup])\n",
    "    prob_interval = probs[1] - probs[0]\n",
    "    return round(prob_interval,3).item()"
   ]
  },
  {
   "cell_type": "markdown",
   "metadata": {},
   "source": [
    "Para refletir:\n",
    "\n",
    "* Esse valor se aproxima do esperado teórico?\n",
    "* Experimente também para os intervalos $[\\bar{x} - 2s, \\bar{x} + 2s]$ e $[\\bar{x} - 3s, \\bar{x} + 3s]$."
   ]
  },
  {
   "cell_type": "markdown",
   "metadata": {},
   "source": [
    "## Questão 3\n",
    "\n",
    "Qual é a diferença entre as médias e as variâncias das variáveis `binomial` e `normal`? Responda como uma tupla de dois elementos arredondados para três casas decimais.\n",
    "\n",
    "Em outras palavras, sejam `m_binom` e `v_binom` a média e a variância da variável `binomial`, e `m_norm` e `v_norm` a média e a variância da variável `normal`. Quais as diferenças `(m_binom - m_norm, v_binom - v_norm)`?"
   ]
  },
  {
   "cell_type": "code",
   "execution_count": 45,
   "metadata": {},
   "outputs": [],
   "source": [
    "def q3():\n",
    "    # Retorne aqui o resultado da questão 3.\n",
    "    m_norm = dataframe.normal.mean()\n",
    "    s_norm = np.var(dataframe.normal)\n",
    "    m_binom = dataframe.binomial.mean()\n",
    "    s_binom = np.var(dataframe.binomial)\n",
    "    return (round(m_binom-m_norm,3).item(),round(s_binom-s_norm,3).item())"
   ]
  },
  {
   "cell_type": "markdown",
   "metadata": {},
   "source": [
    "Para refletir:\n",
    "\n",
    "* Você esperava valore dessa magnitude?\n",
    "* Qual o efeito de aumentar ou diminuir $n$ (atualmente 100) na distribuição da variável `binomial`?"
   ]
  },
  {
   "cell_type": "markdown",
   "metadata": {},
   "source": [
    "## Parte 2"
   ]
  },
  {
   "cell_type": "markdown",
   "metadata": {},
   "source": [
    "### _Setup_ da parte 2"
   ]
  },
  {
   "cell_type": "code",
   "execution_count": 29,
   "metadata": {},
   "outputs": [],
   "source": [
    "stars = pd.read_csv(\"pulsar_stars.csv\")\n",
    "\n",
    "stars.rename({old_name: new_name\n",
    "              for (old_name, new_name)\n",
    "              in zip(stars.columns,\n",
    "                     [\"mean_profile\", \"sd_profile\", \"kurt_profile\", \"skew_profile\", \"mean_curve\", \"sd_curve\", \"kurt_curve\", \"skew_curve\", \"target\"])\n",
    "             },\n",
    "             axis=1, inplace=True)\n",
    "\n",
    "stars.loc[:, \"target\"] = stars.target.astype(bool)"
   ]
  },
  {
   "cell_type": "markdown",
   "metadata": {},
   "source": [
    "## Inicie sua análise da parte 2 a partir daqui"
   ]
  },
  {
   "cell_type": "code",
   "execution_count": 36,
   "metadata": {},
   "outputs": [
    {
     "data": {
      "text/plain": "(0.806, 0.911, 0.959)"
     },
     "execution_count": 36,
     "metadata": {},
     "output_type": "execute_result"
    }
   ],
   "source": [
    "# Sua análise da parte 2 começa aqui.\n",
    "#Questão 04\n",
    "df_filtered = stars.query('target==0')\n",
    "df_filtered['false_pulsar_mean_profile_standardized'] = sct.zscore(df_filtered.mean_profile)\n",
    "qtl = sct.norm.ppf([.8,.9,.95])\n",
    "ecdf = ECDF(df_filtered.false_pulsar_mean_profile_standardized)\n",
    "resp = ecdf(qtl)\n",
    "resp = tuple([round(x,3).item() for x in resp])\n",
    "resp"
   ]
  },
  {
   "cell_type": "code",
   "execution_count": 40,
   "metadata": {},
   "outputs": [
    {
     "data": {
      "text/plain": "(0.027, 0.04, -0.004)"
     },
     "execution_count": 40,
     "metadata": {},
     "output_type": "execute_result"
    }
   ],
   "source": [
    "#Questão 05\n",
    "df_filtered = stars.query('target==0')\n",
    "df_filtered['false_pulsar_mean_profile_standardized'] = sct.zscore(df_filtered.mean_profile)\n",
    "qt_stars = df_filtered.false_pulsar_mean_profile_standardized.quantile([.25,.5,.75])\n",
    "qt_theorical = sct.norm.ppf([.25,.5,.75])\n",
    "diff = qt_stars - qt_theorical\n",
    "diff = tuple([round(x,3) for x in diff])\n",
    "diff"
   ]
  },
  {
   "cell_type": "markdown",
   "metadata": {},
   "source": [
    "## Questão 4\n",
    "\n",
    "Considerando a variável `mean_profile` de `stars`:\n",
    "\n",
    "1. Filtre apenas os valores de `mean_profile` onde `target == 0` (ou seja, onde a estrela não é um pulsar).\n",
    "2. Padronize a variável `mean_profile` filtrada anteriormente para ter média 0 e variância 1.\n",
    "\n",
    "Chamaremos a variável resultante de `false_pulsar_mean_profile_standardized`.\n",
    "\n",
    "Encontre os quantis teóricos para uma distribuição normal de média 0 e variância 1 para 0.80, 0.90 e 0.95 através da função `norm.ppf()` disponível em `scipy.stats`.\n",
    "\n",
    "Quais as probabilidade associadas a esses quantis utilizando a CDF empírica da variável `false_pulsar_mean_profile_standardized`? Responda como uma tupla de três elementos arredondados para três casas decimais."
   ]
  },
  {
   "cell_type": "code",
   "execution_count": 37,
   "metadata": {},
   "outputs": [],
   "source": [
    "def q4():\n",
    "    # Retorne aqui o resultado da questão 4.\n",
    "    df_filtered = stars.query('target==0')\n",
    "    df_filtered['false_pulsar_mean_profile_standardized'] = sct.zscore(df_filtered.mean_profile)\n",
    "    qtl = sct.norm.ppf([.8,.9,.95])\n",
    "    ecdf = ECDF(df_filtered.false_pulsar_mean_profile_standardized)\n",
    "    resp = ecdf(qtl)\n",
    "    resp = tuple([round(x,3).item() for x in resp])\n",
    "    return resp"
   ]
  },
  {
   "cell_type": "markdown",
   "metadata": {},
   "source": [
    "Para refletir:\n",
    "\n",
    "* Os valores encontrados fazem sentido?\n",
    "* O que isso pode dizer sobre a distribuição da variável `false_pulsar_mean_profile_standardized`?"
   ]
  },
  {
   "cell_type": "markdown",
   "metadata": {},
   "source": [
    "## Questão 5\n",
    "\n",
    "Qual a diferença entre os quantis Q1, Q2 e Q3 de `false_pulsar_mean_profile_standardized` e os mesmos quantis teóricos de uma distribuição normal de média 0 e variância 1? Responda como uma tupla de três elementos arredondados para três casas decimais."
   ]
  },
  {
   "cell_type": "code",
   "execution_count": 41,
   "metadata": {},
   "outputs": [],
   "source": [
    "def q5():\n",
    "    # Retorne aqui o resultado da questão 5.\n",
    "    df_filtered = stars.query('target==0')\n",
    "    df_filtered['false_pulsar_mean_profile_standardized'] = sct.zscore(df_filtered.mean_profile)\n",
    "    qt_stars = df_filtered.false_pulsar_mean_profile_standardized.quantile([.25,.5,.75])\n",
    "    qt_theorical = sct.norm.ppf([.25,.5,.75])\n",
    "    diff = qt_stars - qt_theorical\n",
    "    return tuple([round(x,3) for x in diff])"
   ]
  },
  {
   "cell_type": "markdown",
   "metadata": {},
   "source": [
    "Para refletir:\n",
    "\n",
    "* Os valores encontrados fazem sentido?\n",
    "* O que isso pode dizer sobre a distribuição da variável `false_pulsar_mean_profile_standardized`?\n",
    "* Curiosidade: alguns testes de hipóteses sobre normalidade dos dados utilizam essa mesma abordagem."
   ]
  }
 ],
 "metadata": {
  "kernelspec": {
   "display_name": "Python 3",
   "language": "python",
   "name": "python3"
  },
  "language_info": {
   "codemirror_mode": {
    "name": "ipython",
    "version": 3
   },
   "file_extension": ".py",
   "mimetype": "text/x-python",
   "name": "python",
   "nbconvert_exporter": "python",
   "pygments_lexer": "ipython3",
   "version": "3.8.2-final"
  }
 },
 "nbformat": 4,
 "nbformat_minor": 2
}